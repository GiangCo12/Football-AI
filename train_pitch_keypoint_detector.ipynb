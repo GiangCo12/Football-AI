{
 "cells": [
  {
   "cell_type": "code",
   "execution_count": 1,
   "metadata": {},
   "outputs": [
    {
     "name": "stdout",
     "output_type": "stream",
     "text": [
      "Thu Sep 26 21:52:04 2024       \n",
      "+-----------------------------------------------------------------------------------------+\n",
      "| NVIDIA-SMI 560.94                 Driver Version: 560.94         CUDA Version: 12.6     |\n",
      "|-----------------------------------------+------------------------+----------------------+\n",
      "| GPU  Name                  Driver-Model | Bus-Id          Disp.A | Volatile Uncorr. ECC |\n",
      "| Fan  Temp   Perf          Pwr:Usage/Cap |           Memory-Usage | GPU-Util  Compute M. |\n",
      "|                                         |                        |               MIG M. |\n",
      "|=========================================+========================+======================|\n",
      "|   0  NVIDIA GeForce RTX 3060      WDDM  |   00000000:01:00.0  On |                  N/A |\n",
      "|  0%   44C    P0             49W /  170W |     640MiB /  12288MiB |      1%      Default |\n",
      "|                                         |                        |                  N/A |\n",
      "+-----------------------------------------+------------------------+----------------------+\n",
      "                                                                                         \n",
      "+-----------------------------------------------------------------------------------------+\n",
      "| Processes:                                                                              |\n",
      "|  GPU   GI   CI        PID   Type   Process name                              GPU Memory |\n",
      "|        ID   ID                                                               Usage      |\n",
      "|=========================================================================================|\n",
      "|    0   N/A  N/A      1468    C+G   C:\\Windows\\System32\\dwm.exe                 N/A      |\n",
      "|    0   N/A  N/A      4148    C+G   ...BS_cw5n1h2txyewy\\MiniSearchHost.exe      N/A      |\n",
      "|    0   N/A  N/A      9612    C+G   ...on\\128.0.2739.54\\msedgewebview2.exe      N/A      |\n",
      "|    0   N/A  N/A     10376    C+G   ...otification\\AcPowerNotification.exe      N/A      |\n",
      "|    0   N/A  N/A     11088    C+G   C:\\Windows\\explorer.exe                     N/A      |\n",
      "|    0   N/A  N/A     14112    C+G   ...2txyewy\\StartMenuExperienceHost.exe      N/A      |\n",
      "|    0   N/A  N/A     14200    C+G   ...nt.CBS_cw5n1h2txyewy\\SearchHost.exe      N/A      |\n",
      "|    0   N/A  N/A     14796    C+G   ...siveControlPanel\\SystemSettings.exe      N/A      |\n",
      "|    0   N/A  N/A     16452    C+G   ...CBS_cw5n1h2txyewy\\TextInputHost.exe      N/A      |\n",
      "|    0   N/A  N/A     17376    C+G   ...Cloudflare WARP\\Cloudflare WARP.exe      N/A      |\n",
      "|    0   N/A  N/A     18760    C+G   ...x64__8wekyb3d8bbwe\\WinStore.App.exe      N/A      |\n",
      "|    0   N/A  N/A     19768    C+G   ...Coc\\Browser\\Application\\browser.exe      N/A      |\n",
      "|    0   N/A  N/A     19808    C+G   ...GeForce Experience\\NVIDIA Share.exe      N/A      |\n",
      "|    0   N/A  N/A     20020    C+G   ..._8wekyb3d8bbwe\\Microsoft.Photos.exe      N/A      |\n",
      "|    0   N/A  N/A     20188    C+G   ...GeForce Experience\\NVIDIA Share.exe      N/A      |\n",
      "|    0   N/A  N/A     20736    C+G   ...\\cef\\cef.win7x64\\steamwebhelper.exe      N/A      |\n",
      "|    0   N/A  N/A     22168    C+G   ...rator\\AppData\\Local\\Viber\\Viber.exe      N/A      |\n",
      "|    0   N/A  N/A     24140    C+G   ...5n1h2txyewy\\ShellExperienceHost.exe      N/A      |\n",
      "|    0   N/A  N/A     24600    C+G   ...DualSenseX\\app-1.4.9\\DualSenseX.exe      N/A      |\n",
      "|    0   N/A  N/A     24944    C+G   ...rwolf\\0.258.0.6\\OverwolfBrowser.exe      N/A      |\n",
      "|    0   N/A  N/A     26244    C+G   ...ads\\.idea\\overwolf\\old_Overwolf.exe      N/A      |\n",
      "|    0   N/A  N/A     35204    C+G   ...crosoft\\Edge\\Application\\msedge.exe      N/A      |\n",
      "|    0   N/A  N/A     36992    C+G   ...Programs\\Microsoft VS Code\\Code.exe      N/A      |\n",
      "|    0   N/A  N/A     41920    C+G   ...\\cef\\cef.win7x64\\steamwebhelper.exe      N/A      |\n",
      "+-----------------------------------------------------------------------------------------+\n"
     ]
    }
   ],
   "source": [
    "!nvidia-smi"
   ]
  },
  {
   "cell_type": "code",
   "execution_count": 2,
   "metadata": {},
   "outputs": [
    {
     "name": "stdout",
     "output_type": "stream",
     "text": [
      "c:\\Users\\Administrator\\Downloads\n"
     ]
    }
   ],
   "source": [
    "import os\n",
    "HOME = os.getcwd()\n",
    "print(HOME)"
   ]
  },
  {
   "cell_type": "code",
   "execution_count": 62,
   "metadata": {},
   "outputs": [
    {
     "name": "stdout",
     "output_type": "stream",
     "text": [
      "Requirement already satisfied: ultralytics in c:\\users\\administrator\\appdata\\local\\programs\\python\\python311\\lib\\site-packages (8.2.101)\n",
      "Requirement already satisfied: numpy<2.0.0,>=1.23.0 in c:\\users\\administrator\\appdata\\local\\programs\\python\\python311\\lib\\site-packages (from ultralytics) (1.26.1)\n",
      "Requirement already satisfied: matplotlib>=3.3.0 in c:\\users\\administrator\\appdata\\local\\programs\\python\\python311\\lib\\site-packages (from ultralytics) (3.8.0)\n",
      "Requirement already satisfied: opencv-python>=4.6.0 in c:\\users\\administrator\\appdata\\local\\programs\\python\\python311\\lib\\site-packages (from ultralytics) (4.10.0.84)\n",
      "Requirement already satisfied: pillow>=7.1.2 in c:\\users\\administrator\\appdata\\local\\programs\\python\\python311\\lib\\site-packages (from ultralytics) (10.1.0)\n",
      "Requirement already satisfied: pyyaml>=5.3.1 in c:\\users\\administrator\\appdata\\local\\programs\\python\\python311\\lib\\site-packages (from ultralytics) (6.0.1)\n",
      "Requirement already satisfied: requests>=2.23.0 in c:\\users\\administrator\\appdata\\local\\programs\\python\\python311\\lib\\site-packages (from ultralytics) (2.31.0)\n",
      "Requirement already satisfied: scipy>=1.4.1 in c:\\users\\administrator\\appdata\\local\\programs\\python\\python311\\lib\\site-packages (from ultralytics) (1.11.3)\n",
      "Requirement already satisfied: torch>=1.8.0 in c:\\users\\administrator\\appdata\\local\\programs\\python\\python311\\lib\\site-packages (from ultralytics) (2.4.1)\n",
      "Requirement already satisfied: torchvision>=0.9.0 in c:\\users\\administrator\\appdata\\local\\programs\\python\\python311\\lib\\site-packages (from ultralytics) (0.19.1)\n",
      "Requirement already satisfied: tqdm>=4.64.0 in c:\\users\\administrator\\appdata\\local\\programs\\python\\python311\\lib\\site-packages (from ultralytics) (4.66.1)\n",
      "Requirement already satisfied: psutil in c:\\users\\administrator\\appdata\\local\\programs\\python\\python311\\lib\\site-packages (from ultralytics) (5.9.6)\n",
      "Requirement already satisfied: py-cpuinfo in c:\\users\\administrator\\appdata\\local\\programs\\python\\python311\\lib\\site-packages (from ultralytics) (9.0.0)\n",
      "Requirement already satisfied: pandas>=1.1.4 in c:\\users\\administrator\\appdata\\local\\programs\\python\\python311\\lib\\site-packages (from ultralytics) (2.1.2)\n",
      "Requirement already satisfied: seaborn>=0.11.0 in c:\\users\\administrator\\appdata\\local\\programs\\python\\python311\\lib\\site-packages (from ultralytics) (0.13.0)\n",
      "Requirement already satisfied: ultralytics-thop>=2.0.0 in c:\\users\\administrator\\appdata\\local\\programs\\python\\python311\\lib\\site-packages (from ultralytics) (2.0.8)\n",
      "Requirement already satisfied: contourpy>=1.0.1 in c:\\users\\administrator\\appdata\\local\\programs\\python\\python311\\lib\\site-packages (from matplotlib>=3.3.0->ultralytics) (1.1.1)\n",
      "Requirement already satisfied: cycler>=0.10 in c:\\users\\administrator\\appdata\\local\\programs\\python\\python311\\lib\\site-packages (from matplotlib>=3.3.0->ultralytics) (0.12.1)\n",
      "Requirement already satisfied: fonttools>=4.22.0 in c:\\users\\administrator\\appdata\\local\\programs\\python\\python311\\lib\\site-packages (from matplotlib>=3.3.0->ultralytics) (4.43.1)\n",
      "Requirement already satisfied: kiwisolver>=1.0.1 in c:\\users\\administrator\\appdata\\local\\programs\\python\\python311\\lib\\site-packages (from matplotlib>=3.3.0->ultralytics) (1.4.5)\n",
      "Requirement already satisfied: packaging>=20.0 in c:\\users\\administrator\\appdata\\local\\programs\\python\\python311\\lib\\site-packages (from matplotlib>=3.3.0->ultralytics) (23.2)\n",
      "Requirement already satisfied: pyparsing>=2.3.1 in c:\\users\\administrator\\appdata\\local\\programs\\python\\python311\\lib\\site-packages (from matplotlib>=3.3.0->ultralytics) (3.1.1)\n",
      "Requirement already satisfied: python-dateutil>=2.7 in c:\\users\\administrator\\appdata\\local\\programs\\python\\python311\\lib\\site-packages (from matplotlib>=3.3.0->ultralytics) (2.8.2)\n",
      "Requirement already satisfied: pytz>=2020.1 in c:\\users\\administrator\\appdata\\local\\programs\\python\\python311\\lib\\site-packages (from pandas>=1.1.4->ultralytics) (2023.3.post1)\n",
      "Requirement already satisfied: tzdata>=2022.1 in c:\\users\\administrator\\appdata\\local\\programs\\python\\python311\\lib\\site-packages (from pandas>=1.1.4->ultralytics) (2023.3)\n",
      "Requirement already satisfied: charset-normalizer<4,>=2 in c:\\users\\administrator\\appdata\\local\\programs\\python\\python311\\lib\\site-packages (from requests>=2.23.0->ultralytics) (3.3.1)\n",
      "Requirement already satisfied: idna<4,>=2.5 in c:\\users\\administrator\\appdata\\local\\programs\\python\\python311\\lib\\site-packages (from requests>=2.23.0->ultralytics) (3.7)\n",
      "Requirement already satisfied: urllib3<3,>=1.21.1 in c:\\users\\administrator\\appdata\\local\\programs\\python\\python311\\lib\\site-packages (from requests>=2.23.0->ultralytics) (2.0.7)\n",
      "Requirement already satisfied: certifi>=2017.4.17 in c:\\users\\administrator\\appdata\\local\\programs\\python\\python311\\lib\\site-packages (from requests>=2.23.0->ultralytics) (2023.7.22)\n",
      "Requirement already satisfied: filelock in c:\\users\\administrator\\appdata\\local\\programs\\python\\python311\\lib\\site-packages (from torch>=1.8.0->ultralytics) (3.16.1)\n",
      "Requirement already satisfied: typing-extensions>=4.8.0 in c:\\users\\administrator\\appdata\\local\\programs\\python\\python311\\lib\\site-packages (from torch>=1.8.0->ultralytics) (4.12.2)\n",
      "Requirement already satisfied: sympy in c:\\users\\administrator\\appdata\\local\\programs\\python\\python311\\lib\\site-packages (from torch>=1.8.0->ultralytics) (1.13.3)\n",
      "Requirement already satisfied: networkx in c:\\users\\administrator\\appdata\\local\\programs\\python\\python311\\lib\\site-packages (from torch>=1.8.0->ultralytics) (3.3)\n",
      "Requirement already satisfied: jinja2 in c:\\users\\administrator\\appdata\\local\\programs\\python\\python311\\lib\\site-packages (from torch>=1.8.0->ultralytics) (3.1.2)\n",
      "Requirement already satisfied: fsspec in c:\\users\\administrator\\appdata\\local\\programs\\python\\python311\\lib\\site-packages (from torch>=1.8.0->ultralytics) (2024.9.0)\n",
      "Requirement already satisfied: colorama in c:\\users\\administrator\\appdata\\local\\programs\\python\\python311\\lib\\site-packages (from tqdm>=4.64.0->ultralytics) (0.4.6)\n",
      "Requirement already satisfied: six>=1.5 in c:\\users\\administrator\\appdata\\local\\programs\\python\\python311\\lib\\site-packages (from python-dateutil>=2.7->matplotlib>=3.3.0->ultralytics) (1.16.0)\n",
      "Requirement already satisfied: MarkupSafe>=2.0 in c:\\users\\administrator\\appdata\\local\\programs\\python\\python311\\lib\\site-packages (from jinja2->torch>=1.8.0->ultralytics) (2.1.3)\n",
      "Requirement already satisfied: mpmath<1.4,>=1.1.0 in c:\\users\\administrator\\appdata\\local\\programs\\python\\python311\\lib\\site-packages (from sympy->torch>=1.8.0->ultralytics) (1.3.0)\n",
      "Note: you may need to restart the kernel to use updated packages.\n"
     ]
    },
    {
     "name": "stderr",
     "output_type": "stream",
     "text": [
      "\n",
      "[notice] A new release of pip is available: 23.2.1 -> 24.2\n",
      "[notice] To update, run: python.exe -m pip install --upgrade pip\n"
     ]
    }
   ],
   "source": [
    "pip install ultralytics\n"
   ]
  },
  {
   "cell_type": "code",
   "execution_count": 56,
   "metadata": {},
   "outputs": [],
   "source": [
    "from roboflow import Roboflow\n",
    "from IPython.display import Image"
   ]
  },
  {
   "cell_type": "code",
   "execution_count": 41,
   "metadata": {},
   "outputs": [],
   "source": [
    "ROBOFLOW_API_KEY = \"GyPjsI075U1iNxc3YWKK\"\n",
    "\n"
   ]
  },
  {
   "cell_type": "code",
   "execution_count": 67,
   "metadata": {},
   "outputs": [
    {
     "ename": "ValueError",
     "evalue": "ROBOFLOW_API_KEY is not set. Please set it in the environment variables or .env file.",
     "output_type": "error",
     "traceback": [
      "\u001b[1;31m---------------------------------------------------------------------------\u001b[0m",
      "\u001b[1;31mValueError\u001b[0m                                Traceback (most recent call last)",
      "\u001b[1;32mc:\\Users\\Administrator\\Downloads\\train_pitch_keypoint_detector.ipynb Cell 6\u001b[0m line \u001b[0;36m1\n\u001b[0;32m     <a href='vscode-notebook-cell:/c%3A/Users/Administrator/Downloads/train_pitch_keypoint_detector.ipynb#W4sZmlsZQ%3D%3D?line=9'>10</a>\u001b[0m ROBOFLOW_API_KEY \u001b[39m=\u001b[39m os\u001b[39m.\u001b[39mgetenv(\u001b[39m'\u001b[39m\u001b[39mROBOFLOW_API_KEY\u001b[39m\u001b[39m'\u001b[39m)\n\u001b[0;32m     <a href='vscode-notebook-cell:/c%3A/Users/Administrator/Downloads/train_pitch_keypoint_detector.ipynb#W4sZmlsZQ%3D%3D?line=11'>12</a>\u001b[0m \u001b[39mif\u001b[39;00m ROBOFLOW_API_KEY \u001b[39mis\u001b[39;00m \u001b[39mNone\u001b[39;00m:\n\u001b[1;32m---> <a href='vscode-notebook-cell:/c%3A/Users/Administrator/Downloads/train_pitch_keypoint_detector.ipynb#W4sZmlsZQ%3D%3D?line=12'>13</a>\u001b[0m     \u001b[39mraise\u001b[39;00m \u001b[39mValueError\u001b[39;00m(\u001b[39m\"\u001b[39m\u001b[39mROBOFLOW_API_KEY is not set. Please set it in the environment variables or .env file.\u001b[39m\u001b[39m\"\u001b[39m)\n\u001b[0;32m     <a href='vscode-notebook-cell:/c%3A/Users/Administrator/Downloads/train_pitch_keypoint_detector.ipynb#W4sZmlsZQ%3D%3D?line=14'>15</a>\u001b[0m \u001b[39m# Tạo thư mục datasets nếu chưa tồn tại\u001b[39;00m\n\u001b[0;32m     <a href='vscode-notebook-cell:/c%3A/Users/Administrator/Downloads/train_pitch_keypoint_detector.ipynb#W4sZmlsZQ%3D%3D?line=15'>16</a>\u001b[0m datasets_path \u001b[39m=\u001b[39m os\u001b[39m.\u001b[39mpath\u001b[39m.\u001b[39mjoin(os\u001b[39m.\u001b[39mpath\u001b[39m.\u001b[39mexpanduser(\u001b[39m'\u001b[39m\u001b[39m~\u001b[39m\u001b[39m'\u001b[39m), \u001b[39m'\u001b[39m\u001b[39mdatasets\u001b[39m\u001b[39m'\u001b[39m)\n",
      "\u001b[1;31mValueError\u001b[0m: ROBOFLOW_API_KEY is not set. Please set it in the environment variables or .env file."
     ]
    }
   ],
   "source": [
    "import os\n",
    "import subprocess\n",
    "from roboflow import Roboflow\n",
    "from dotenv import load_dotenv\n",
    "\n",
    "# Nạp biến môi trường từ file .env (nếu có)\n",
    "load_dotenv()\n",
    "\n",
    "# Lấy API key từ biến môi trường\n",
    "ROBOFLOW_API_KEY = os.getenv('ROBOFLOW_API_KEY')\n",
    "\n",
    "if ROBOFLOW_API_KEY is None:\n",
    "    raise ValueError(\"ROBOFLOW_API_KEY is not set. Please set it in the environment variables or .env file.\")\n",
    "\n",
    "# Tạo thư mục datasets nếu chưa tồn tại\n",
    "datasets_path = os.path.join(os.path.expanduser('~'), 'datasets')\n",
    "os.makedirs(datasets_path, exist_ok=True)\n",
    "\n",
    "# Khởi tạo Roboflow với API key\n",
    "rf = Roboflow(api_key=ROBOFLOW_API_KEY)\n",
    "\n",
    "# Tải dự án và phiên bản\n",
    "project = rf.workspace(\"roboflow-jvuqo\").project(\"football-field-detection-f07vi\")\n",
    "version = project.version(12)\n",
    "dataset = version.download(\"yolov8\")\n",
    "\n",
    "# Đường dẫn đến file data.yaml\n",
    "data_yaml_path = os.path.join(dataset.location, 'data.yaml')\n",
    "\n",
    "# Lệnh huấn luyện YOLOv8\n",
    "train_command = f\"yolo task=pose mode=train model=yolov8x-pose.pt data={data_yaml_path} batch=16 epochs=100 imgsz=640 mosaic=0.0 plots=True\"\n",
    "\n",
    "# Chạy lệnh trong terminal\n",
    "subprocess.run(train_command, shell=True, check=True)\n"
   ]
  },
  {
   "cell_type": "code",
   "execution_count": 66,
   "metadata": {},
   "outputs": [
    {
     "name": "stderr",
     "output_type": "stream",
     "text": [
      "'sed' is not recognized as an internal or external command,\n",
      "operable program or batch file.\n",
      "'sed' is not recognized as an internal or external command,\n",
      "operable program or batch file.\n"
     ]
    }
   ],
   "source": [
    "!sed -i 's|\\(train: \\).*|\\1../train/images|' {dataset.location}/data.yaml\n",
    "!sed -i 's|\\(val: \\).*|\\1../valid/images|' {dataset.location}/data.yaml"
   ]
  },
  {
   "cell_type": "code",
   "execution_count": 59,
   "metadata": {},
   "outputs": [
    {
     "name": "stdout",
     "output_type": "stream",
     "text": [
      "C:\\Users\\Administrator\n"
     ]
    },
    {
     "name": "stderr",
     "output_type": "stream",
     "text": [
      "using dhist requires you to install the `pickleshare` library.\n"
     ]
    },
    {
     "name": "stdout",
     "output_type": "stream",
     "text": [
      "Downloading https://github.com/ultralytics/assets/releases/download/v8.2.0/yolov8x-pose.pt to 'yolov8x-pose.pt'...\n",
      "New https://pypi.org/project/ultralytics/8.2.102 available 😃 Update with 'pip install -U ultralytics'\n",
      "Ultralytics YOLOv8.2.101 🚀 Python-3.11.6 torch-2.4.1+cpu CPU (11th Gen Intel Core(TM) i7-11700F 2.50GHz)\n",
      "\u001b[34m\u001b[1mengine\\trainer: \u001b[0mtask=pose, mode=train, model=yolov8x-pose.pt, data=C:\\Users\\Administrator\\datasets\\football-field-detection-12/data.yaml, epochs=100, time=None, patience=100, batch=16, imgsz=640, save=True, save_period=-1, cache=False, device=None, workers=8, project=None, name=train, exist_ok=False, pretrained=True, optimizer=auto, verbose=True, seed=0, deterministic=True, single_cls=False, rect=False, cos_lr=False, close_mosaic=10, resume=False, amp=True, fraction=1.0, profile=False, freeze=None, multi_scale=False, overlap_mask=True, mask_ratio=4, dropout=0.0, val=True, split=val, save_json=False, save_hybrid=False, conf=None, iou=0.7, max_det=300, half=False, dnn=False, plots=True, source=None, vid_stride=1, stream_buffer=False, visualize=False, augment=False, agnostic_nms=False, classes=None, retina_masks=False, embed=None, show=False, save_frames=False, save_txt=False, save_conf=False, save_crop=False, show_labels=True, show_conf=True, show_boxes=True, line_width=None, format=torchscript, keras=False, optimize=False, int8=False, dynamic=False, simplify=True, opset=None, workspace=4, nms=False, lr0=0.01, lrf=0.01, momentum=0.937, weight_decay=0.0005, warmup_epochs=3.0, warmup_momentum=0.8, warmup_bias_lr=0.1, box=7.5, cls=0.5, dfl=1.5, pose=12.0, kobj=1.0, label_smoothing=0.0, nbs=64, hsv_h=0.015, hsv_s=0.7, hsv_v=0.4, degrees=0.0, translate=0.1, scale=0.5, shear=0.0, perspective=0.0, flipud=0.0, fliplr=0.5, bgr=0.0, mosaic=0.0, mixup=0.0, copy_paste=0.0, auto_augment=randaugment, erasing=0.4, crop_fraction=1.0, cfg=None, tracker=botsort.yaml, save_dir=runs\\pose\\train\n"
     ]
    },
    {
     "name": "stderr",
     "output_type": "stream",
     "text": [
      "\n",
      "  0%|          | 0.00/133M [00:00<?, ?B/s]\n",
      "  0%|          | 256k/133M [00:00<00:53, 2.59MB/s]\n",
      "  1%|          | 1.25M/133M [00:00<00:19, 7.16MB/s]\n",
      "  2%|▏         | 2.00M/133M [00:00<00:19, 6.87MB/s]\n",
      "  3%|▎         | 3.62M/133M [00:00<00:15, 8.75MB/s]\n",
      "  4%|▍         | 5.50M/133M [00:00<00:11, 11.9MB/s]\n",
      "  5%|▌         | 6.75M/133M [00:00<00:11, 11.9MB/s]\n",
      "  6%|▌         | 8.00M/133M [00:00<00:11, 11.8MB/s]\n",
      "  7%|▋         | 9.25M/133M [00:00<00:10, 11.8MB/s]\n",
      "  8%|▊         | 10.5M/133M [00:01<00:10, 11.9MB/s]\n",
      "  9%|▉         | 11.8M/133M [00:01<00:10, 11.8MB/s]\n",
      " 10%|▉         | 13.0M/133M [00:01<00:10, 11.8MB/s]\n",
      " 11%|█         | 14.2M/133M [00:01<00:10, 11.8MB/s]\n",
      " 12%|█▏        | 15.5M/133M [00:01<00:10, 11.8MB/s]\n",
      " 13%|█▎        | 16.8M/133M [00:01<00:10, 11.8MB/s]\n",
      " 14%|█▎        | 18.0M/133M [00:01<00:10, 11.8MB/s]\n",
      " 14%|█▍        | 19.2M/133M [00:01<00:10, 11.9MB/s]\n",
      " 15%|█▌        | 20.5M/133M [00:01<00:10, 11.8MB/s]\n",
      " 16%|█▋        | 21.8M/133M [00:02<00:09, 11.8MB/s]\n",
      " 17%|█▋        | 23.0M/133M [00:02<00:09, 11.8MB/s]\n",
      " 18%|█▊        | 24.2M/133M [00:02<00:09, 11.8MB/s]\n",
      " 19%|█▉        | 25.5M/133M [00:02<00:09, 11.8MB/s]\n",
      " 20%|██        | 26.8M/133M [00:02<00:09, 11.8MB/s]\n",
      " 21%|██        | 28.0M/133M [00:02<00:09, 11.8MB/s]\n",
      " 22%|██▏       | 29.2M/133M [00:02<00:09, 11.8MB/s]\n",
      " 23%|██▎       | 30.5M/133M [00:02<00:09, 11.6MB/s]\n",
      " 24%|██▍       | 31.8M/133M [00:02<00:09, 11.6MB/s]\n",
      " 25%|██▍       | 32.9M/133M [00:03<00:08, 11.7MB/s]\n",
      " 26%|██▌       | 34.1M/133M [00:03<00:08, 11.7MB/s]\n",
      " 27%|██▋       | 35.4M/133M [00:03<00:08, 11.8MB/s]\n",
      " 28%|██▊       | 36.6M/133M [00:03<00:08, 11.8MB/s]\n",
      " 28%|██▊       | 37.9M/133M [00:03<00:08, 11.8MB/s]\n",
      " 29%|██▉       | 39.1M/133M [00:03<00:08, 11.8MB/s]\n",
      " 30%|███       | 40.4M/133M [00:03<00:08, 10.8MB/s]\n",
      " 31%|███▏      | 41.6M/133M [00:03<00:08, 11.1MB/s]\n",
      " 32%|███▏      | 42.9M/133M [00:03<00:08, 11.3MB/s]\n",
      " 33%|███▎      | 44.0M/133M [00:04<00:08, 11.4MB/s]\n",
      " 34%|███▍      | 45.1M/133M [00:04<00:07, 11.5MB/s]\n",
      " 35%|███▍      | 46.4M/133M [00:04<00:07, 11.6MB/s]\n",
      " 36%|███▌      | 47.6M/133M [00:04<00:07, 11.7MB/s]\n",
      " 37%|███▋      | 48.9M/133M [00:04<00:07, 11.7MB/s]\n",
      " 38%|███▊      | 50.1M/133M [00:04<00:07, 11.0MB/s]\n",
      " 39%|███▊      | 51.4M/133M [00:04<00:07, 11.3MB/s]\n",
      " 40%|███▉      | 52.6M/133M [00:04<00:07, 11.4MB/s]\n",
      " 41%|████      | 53.9M/133M [00:04<00:07, 11.6MB/s]\n",
      " 41%|████▏     | 55.0M/133M [00:05<00:07, 11.6MB/s]\n",
      " 42%|████▏     | 56.2M/133M [00:05<00:06, 11.7MB/s]\n",
      " 43%|████▎     | 57.5M/133M [00:05<00:06, 11.7MB/s]\n",
      " 44%|████▍     | 58.8M/133M [00:05<00:06, 11.8MB/s]\n",
      " 45%|████▌     | 59.9M/133M [00:05<00:06, 11.8MB/s]\n",
      " 46%|████▌     | 61.0M/133M [00:05<00:07, 10.7MB/s]\n",
      " 47%|████▋     | 62.2M/133M [00:05<00:06, 11.0MB/s]\n",
      " 48%|████▊     | 63.4M/133M [00:05<00:06, 11.2MB/s]\n",
      " 49%|████▊     | 64.6M/133M [00:05<00:06, 11.4MB/s]\n",
      " 50%|████▉     | 65.9M/133M [00:06<00:06, 11.6MB/s]\n",
      " 50%|█████     | 67.1M/133M [00:06<00:05, 11.6MB/s]\n",
      " 51%|█████▏    | 68.4M/133M [00:06<00:05, 11.7MB/s]\n",
      " 52%|█████▏    | 69.6M/133M [00:06<00:05, 11.7MB/s]\n",
      " 53%|█████▎    | 70.8M/133M [00:06<00:06, 10.7MB/s]\n",
      " 54%|█████▍    | 72.0M/133M [00:06<00:05, 11.0MB/s]\n",
      " 55%|█████▌    | 73.2M/133M [00:06<00:05, 11.3MB/s]\n",
      " 56%|█████▌    | 74.4M/133M [00:06<00:05, 11.4MB/s]\n",
      " 57%|█████▋    | 75.6M/133M [00:06<00:05, 11.5MB/s]\n",
      " 58%|█████▊    | 76.8M/133M [00:07<00:05, 11.6MB/s]\n",
      " 59%|█████▊    | 78.0M/133M [00:07<00:04, 11.7MB/s]\n",
      " 60%|█████▉    | 79.2M/133M [00:07<00:04, 11.7MB/s]\n",
      " 60%|██████    | 80.4M/133M [00:07<00:04, 11.3MB/s]\n",
      " 61%|██████▏   | 81.5M/133M [00:07<00:04, 11.4MB/s]\n",
      " 62%|██████▏   | 82.8M/133M [00:07<00:04, 11.5MB/s]\n",
      " 63%|██████▎   | 83.9M/133M [00:07<00:04, 11.6MB/s]\n",
      " 64%|██████▍   | 85.1M/133M [00:07<00:04, 11.7MB/s]\n",
      " 65%|██████▍   | 86.4M/133M [00:07<00:04, 11.7MB/s]\n",
      " 66%|██████▌   | 87.6M/133M [00:08<00:04, 11.7MB/s]\n",
      " 67%|██████▋   | 88.9M/133M [00:08<00:03, 11.8MB/s]\n",
      " 68%|██████▊   | 90.1M/133M [00:08<00:04, 11.1MB/s]\n",
      " 69%|██████▊   | 91.2M/133M [00:08<00:03, 11.3MB/s]\n",
      " 70%|██████▉   | 92.5M/133M [00:08<00:03, 11.5MB/s]\n",
      " 71%|███████   | 93.8M/133M [00:08<00:03, 11.6MB/s]\n",
      " 71%|███████▏  | 95.0M/133M [00:08<00:03, 11.6MB/s]\n",
      " 72%|███████▏  | 96.2M/133M [00:08<00:03, 11.7MB/s]\n",
      " 73%|███████▎  | 97.5M/133M [00:08<00:03, 11.7MB/s]\n",
      " 74%|███████▍  | 98.8M/133M [00:09<00:03, 11.8MB/s]\n",
      " 75%|███████▌  | 100M/133M [00:09<00:02, 11.8MB/s] \n",
      " 76%|███████▌  | 101M/133M [00:09<00:02, 11.1MB/s]\n",
      " 77%|███████▋  | 102M/133M [00:09<00:02, 11.2MB/s]\n",
      " 78%|███████▊  | 104M/133M [00:09<00:02, 11.4MB/s]\n",
      " 79%|███████▉  | 105M/133M [00:09<00:02, 11.5MB/s]\n",
      " 80%|███████▉  | 106M/133M [00:09<00:02, 11.6MB/s]\n",
      " 81%|████████  | 107M/133M [00:09<00:02, 11.7MB/s]\n",
      " 82%|████████▏ | 108M/133M [00:09<00:02, 11.7MB/s]\n",
      " 82%|████████▏ | 110M/133M [00:10<00:02, 11.8MB/s]\n",
      " 83%|████████▎ | 111M/133M [00:10<00:02, 10.7MB/s]\n",
      " 84%|████████▍ | 112M/133M [00:10<00:01, 11.0MB/s]\n",
      " 85%|████████▌ | 113M/133M [00:10<00:01, 11.2MB/s]\n",
      " 86%|████████▌ | 114M/133M [00:10<00:01, 11.4MB/s]\n",
      " 87%|████████▋ | 116M/133M [00:10<00:01, 11.5MB/s]\n",
      " 88%|████████▊ | 117M/133M [00:10<00:01, 11.6MB/s]\n",
      " 89%|████████▊ | 118M/133M [00:10<00:01, 11.7MB/s]\n",
      " 90%|████████▉ | 119M/133M [00:10<00:01, 11.7MB/s]\n",
      " 91%|█████████ | 120M/133M [00:11<00:01, 11.2MB/s]\n",
      " 91%|█████████▏| 122M/133M [00:11<00:01, 11.4MB/s]\n",
      " 92%|█████████▏| 123M/133M [00:11<00:00, 11.5MB/s]\n",
      " 93%|█████████▎| 124M/133M [00:11<00:00, 11.6MB/s]\n",
      " 94%|█████████▍| 125M/133M [00:11<00:00, 11.7MB/s]\n",
      " 95%|█████████▌| 126M/133M [00:11<00:00, 11.7MB/s]\n",
      " 96%|█████████▌| 128M/133M [00:11<00:00, 11.7MB/s]\n",
      " 97%|█████████▋| 129M/133M [00:11<00:00, 11.7MB/s]\n",
      " 98%|█████████▊| 130M/133M [00:11<00:00, 11.8MB/s]\n",
      " 99%|█████████▊| 131M/133M [00:11<00:00, 11.6MB/s]\n",
      "100%|█████████▉| 132M/133M [00:12<00:00, 11.7MB/s]\n",
      "100%|██████████| 133M/133M [00:12<00:00, 11.5MB/s]\n",
      "Traceback (most recent call last):\n",
      "  File \"C:\\Users\\Administrator\\AppData\\Local\\Programs\\Python\\Python311\\Lib\\site-packages\\ultralytics\\engine\\trainer.py\", line 557, in get_dataset\n",
      "    data = check_det_dataset(self.args.data)\n",
      "           ^^^^^^^^^^^^^^^^^^^^^^^^^^^^^^^^^\n",
      "  File \"C:\\Users\\Administrator\\AppData\\Local\\Programs\\Python\\Python311\\Lib\\site-packages\\ultralytics\\data\\utils.py\", line 328, in check_det_dataset\n",
      "    raise FileNotFoundError(m)\n",
      "FileNotFoundError: \n",
      "Dataset 'C://Users/Administrator/datasets/football-field-detection-12/data.yaml' images not found ⚠️, missing path 'C:\\Users\\Administrator\\datasets\\football-field-detection-12\\football-field-detection-12\\valid\\images'\n",
      "Note dataset download directory is 'C:\\Users\\Administrator\\datasets\\datasets'. You can update this in 'C:\\Users\\Administrator\\AppData\\Roaming\\Ultralytics\\settings.json'\n",
      "\n",
      "The above exception was the direct cause of the following exception:\n",
      "\n",
      "Traceback (most recent call last):\n",
      "  File \"<frozen runpy>\", line 198, in _run_module_as_main\n",
      "  File \"<frozen runpy>\", line 88, in _run_code\n",
      "  File \"C:\\Users\\Administrator\\AppData\\Local\\Programs\\Python\\Python311\\Scripts\\yolo.exe\\__main__.py\", line 7, in <module>\n",
      "  File \"C:\\Users\\Administrator\\AppData\\Local\\Programs\\Python\\Python311\\Lib\\site-packages\\ultralytics\\cfg\\__init__.py\", line 831, in entrypoint\n",
      "    getattr(model, mode)(**overrides)  # default args from model\n",
      "    ^^^^^^^^^^^^^^^^^^^^^^^^^^^^^^^^^\n",
      "  File \"C:\\Users\\Administrator\\AppData\\Local\\Programs\\Python\\Python311\\Lib\\site-packages\\ultralytics\\engine\\model.py\", line 797, in train\n",
      "    self.trainer = (trainer or self._smart_load(\"trainer\"))(overrides=args, _callbacks=self.callbacks)\n",
      "                   ^^^^^^^^^^^^^^^^^^^^^^^^^^^^^^^^^^^^^^^^^^^^^^^^^^^^^^^^^^^^^^^^^^^^^^^^^^^^^^^^^^^\n",
      "  File \"C:\\Users\\Administrator\\AppData\\Local\\Programs\\Python\\Python311\\Lib\\site-packages\\ultralytics\\models\\yolo\\pose\\train.py\", line 30, in __init__\n",
      "    super().__init__(cfg, overrides, _callbacks)\n",
      "  File \"C:\\Users\\Administrator\\AppData\\Local\\Programs\\Python\\Python311\\Lib\\site-packages\\ultralytics\\engine\\trainer.py\", line 133, in __init__\n",
      "    self.trainset, self.testset = self.get_dataset()\n",
      "                                  ^^^^^^^^^^^^^^^^^^\n",
      "  File \"C:\\Users\\Administrator\\AppData\\Local\\Programs\\Python\\Python311\\Lib\\site-packages\\ultralytics\\engine\\trainer.py\", line 561, in get_dataset\n",
      "    raise RuntimeError(emojis(f\"Dataset '{clean_url(self.args.data)}' error ❌ {e}\")) from e\n",
      "RuntimeError: Dataset 'C://Users/Administrator/datasets/football-field-detection-12/data.yaml' error  \n",
      "Dataset 'C://Users/Administrator/datasets/football-field-detection-12/data.yaml' images not found , missing path 'C:\\Users\\Administrator\\datasets\\football-field-detection-12\\football-field-detection-12\\valid\\images'\n",
      "Note dataset download directory is 'C:\\Users\\Administrator\\datasets\\datasets'. You can update this in 'C:\\Users\\Administrator\\AppData\\Roaming\\Ultralytics\\settings.json'\n"
     ]
    }
   ],
   "source": [
    "%cd {HOME}\n",
    "\n",
    "!yolo task=pose mode=train model=yolov8x-pose.pt data={dataset.location}/data.yaml batch=16 epochs=100 imgsz=640 mosaic=0.0 plots=True"
   ]
  },
  {
   "cell_type": "code",
   "execution_count": 60,
   "metadata": {},
   "outputs": [
    {
     "name": "stderr",
     "output_type": "stream",
     "text": [
      "'ls' is not recognized as an internal or external command,\n",
      "operable program or batch file.\n"
     ]
    }
   ],
   "source": [
    "!ls {HOME}/runs/pose/train/"
   ]
  },
  {
   "cell_type": "code",
   "execution_count": 61,
   "metadata": {},
   "outputs": [
    {
     "name": "stdout",
     "output_type": "stream",
     "text": [
      "C:\\Users\\Administrator\n"
     ]
    },
    {
     "ename": "FileNotFoundError",
     "evalue": "[Errno 2] No such file or directory: 'C:\\\\Users\\\\Administrator/runs/pose/train/results.png'",
     "output_type": "error",
     "traceback": [
      "\u001b[1;31m---------------------------------------------------------------------------\u001b[0m",
      "\u001b[1;31mFileNotFoundError\u001b[0m                         Traceback (most recent call last)",
      "\u001b[1;32mc:\\Users\\Administrator\\Downloads\\train_pitch_keypoint_detector.ipynb Cell 10\u001b[0m line \u001b[0;36m2\n\u001b[0;32m      <a href='vscode-notebook-cell:/c%3A/Users/Administrator/Downloads/train_pitch_keypoint_detector.ipynb#X25sZmlsZQ%3D%3D?line=0'>1</a>\u001b[0m get_ipython()\u001b[39m.\u001b[39mrun_line_magic(\u001b[39m'\u001b[39m\u001b[39mcd\u001b[39m\u001b[39m'\u001b[39m, \u001b[39m'\u001b[39m\u001b[39m{HOME}\u001b[39;00m\u001b[39m'\u001b[39m)\n\u001b[1;32m----> <a href='vscode-notebook-cell:/c%3A/Users/Administrator/Downloads/train_pitch_keypoint_detector.ipynb#X25sZmlsZQ%3D%3D?line=1'>2</a>\u001b[0m Image(filename\u001b[39m=\u001b[39;49m\u001b[39mf\u001b[39;49m\u001b[39m'\u001b[39;49m\u001b[39m{\u001b[39;49;00mHOME\u001b[39m}\u001b[39;49;00m\u001b[39m/runs/pose/train/results.png\u001b[39;49m\u001b[39m'\u001b[39;49m, width\u001b[39m=\u001b[39;49m\u001b[39m600\u001b[39;49m)\n",
      "File \u001b[1;32mc:\\Users\\Administrator\\AppData\\Local\\Programs\\Python\\Python311\\Lib\\site-packages\\IPython\\core\\display.py:970\u001b[0m, in \u001b[0;36mImage.__init__\u001b[1;34m(self, data, url, filename, format, embed, width, height, retina, unconfined, metadata, alt)\u001b[0m\n\u001b[0;32m    968\u001b[0m \u001b[39mself\u001b[39m\u001b[39m.\u001b[39munconfined \u001b[39m=\u001b[39m unconfined\n\u001b[0;32m    969\u001b[0m \u001b[39mself\u001b[39m\u001b[39m.\u001b[39malt \u001b[39m=\u001b[39m alt\n\u001b[1;32m--> 970\u001b[0m \u001b[39msuper\u001b[39;49m(Image, \u001b[39mself\u001b[39;49m)\u001b[39m.\u001b[39;49m\u001b[39m__init__\u001b[39;49m(data\u001b[39m=\u001b[39;49mdata, url\u001b[39m=\u001b[39;49murl, filename\u001b[39m=\u001b[39;49mfilename,\n\u001b[0;32m    971\u001b[0m         metadata\u001b[39m=\u001b[39;49mmetadata)\n\u001b[0;32m    973\u001b[0m \u001b[39mif\u001b[39;00m \u001b[39mself\u001b[39m\u001b[39m.\u001b[39mwidth \u001b[39mis\u001b[39;00m \u001b[39mNone\u001b[39;00m \u001b[39mand\u001b[39;00m \u001b[39mself\u001b[39m\u001b[39m.\u001b[39mmetadata\u001b[39m.\u001b[39mget(\u001b[39m'\u001b[39m\u001b[39mwidth\u001b[39m\u001b[39m'\u001b[39m, {}):\n\u001b[0;32m    974\u001b[0m     \u001b[39mself\u001b[39m\u001b[39m.\u001b[39mwidth \u001b[39m=\u001b[39m metadata[\u001b[39m'\u001b[39m\u001b[39mwidth\u001b[39m\u001b[39m'\u001b[39m]\n",
      "File \u001b[1;32mc:\\Users\\Administrator\\AppData\\Local\\Programs\\Python\\Python311\\Lib\\site-packages\\IPython\\core\\display.py:327\u001b[0m, in \u001b[0;36mDisplayObject.__init__\u001b[1;34m(self, data, url, filename, metadata)\u001b[0m\n\u001b[0;32m    324\u001b[0m \u001b[39melif\u001b[39;00m \u001b[39mself\u001b[39m\u001b[39m.\u001b[39mmetadata \u001b[39mis\u001b[39;00m \u001b[39mNone\u001b[39;00m:\n\u001b[0;32m    325\u001b[0m     \u001b[39mself\u001b[39m\u001b[39m.\u001b[39mmetadata \u001b[39m=\u001b[39m {}\n\u001b[1;32m--> 327\u001b[0m \u001b[39mself\u001b[39;49m\u001b[39m.\u001b[39;49mreload()\n\u001b[0;32m    328\u001b[0m \u001b[39mself\u001b[39m\u001b[39m.\u001b[39m_check_data()\n",
      "File \u001b[1;32mc:\\Users\\Administrator\\AppData\\Local\\Programs\\Python\\Python311\\Lib\\site-packages\\IPython\\core\\display.py:1005\u001b[0m, in \u001b[0;36mImage.reload\u001b[1;34m(self)\u001b[0m\n\u001b[0;32m   1003\u001b[0m \u001b[39m\u001b[39m\u001b[39m\"\"\"Reload the raw data from file or URL.\"\"\"\u001b[39;00m\n\u001b[0;32m   1004\u001b[0m \u001b[39mif\u001b[39;00m \u001b[39mself\u001b[39m\u001b[39m.\u001b[39membed:\n\u001b[1;32m-> 1005\u001b[0m     \u001b[39msuper\u001b[39;49m(Image,\u001b[39mself\u001b[39;49m)\u001b[39m.\u001b[39;49mreload()\n\u001b[0;32m   1006\u001b[0m     \u001b[39mif\u001b[39;00m \u001b[39mself\u001b[39m\u001b[39m.\u001b[39mretina:\n\u001b[0;32m   1007\u001b[0m         \u001b[39mself\u001b[39m\u001b[39m.\u001b[39m_retina_shape()\n",
      "File \u001b[1;32mc:\\Users\\Administrator\\AppData\\Local\\Programs\\Python\\Python311\\Lib\\site-packages\\IPython\\core\\display.py:353\u001b[0m, in \u001b[0;36mDisplayObject.reload\u001b[1;34m(self)\u001b[0m\n\u001b[0;32m    351\u001b[0m \u001b[39mif\u001b[39;00m \u001b[39mself\u001b[39m\u001b[39m.\u001b[39mfilename \u001b[39mis\u001b[39;00m \u001b[39mnot\u001b[39;00m \u001b[39mNone\u001b[39;00m:\n\u001b[0;32m    352\u001b[0m     encoding \u001b[39m=\u001b[39m \u001b[39mNone\u001b[39;00m \u001b[39mif\u001b[39;00m \u001b[39m\"\u001b[39m\u001b[39mb\u001b[39m\u001b[39m\"\u001b[39m \u001b[39min\u001b[39;00m \u001b[39mself\u001b[39m\u001b[39m.\u001b[39m_read_flags \u001b[39melse\u001b[39;00m \u001b[39m\"\u001b[39m\u001b[39mutf-8\u001b[39m\u001b[39m\"\u001b[39m\n\u001b[1;32m--> 353\u001b[0m     \u001b[39mwith\u001b[39;00m \u001b[39mopen\u001b[39;49m(\u001b[39mself\u001b[39;49m\u001b[39m.\u001b[39;49mfilename, \u001b[39mself\u001b[39;49m\u001b[39m.\u001b[39;49m_read_flags, encoding\u001b[39m=\u001b[39;49mencoding) \u001b[39mas\u001b[39;00m f:\n\u001b[0;32m    354\u001b[0m         \u001b[39mself\u001b[39m\u001b[39m.\u001b[39mdata \u001b[39m=\u001b[39m f\u001b[39m.\u001b[39mread()\n\u001b[0;32m    355\u001b[0m \u001b[39melif\u001b[39;00m \u001b[39mself\u001b[39m\u001b[39m.\u001b[39murl \u001b[39mis\u001b[39;00m \u001b[39mnot\u001b[39;00m \u001b[39mNone\u001b[39;00m:\n\u001b[0;32m    356\u001b[0m     \u001b[39m# Deferred import\u001b[39;00m\n",
      "\u001b[1;31mFileNotFoundError\u001b[0m: [Errno 2] No such file or directory: 'C:\\\\Users\\\\Administrator/runs/pose/train/results.png'"
     ]
    }
   ],
   "source": [
    "%cd {HOME}\n",
    "Image(filename=f'{HOME}/runs/pose/train/results.png', width=600)"
   ]
  },
  {
   "cell_type": "code",
   "execution_count": null,
   "metadata": {},
   "outputs": [],
   "source": []
  }
 ],
 "metadata": {
  "kernelspec": {
   "display_name": "Python 3",
   "language": "python",
   "name": "python3"
  },
  "language_info": {
   "codemirror_mode": {
    "name": "ipython",
    "version": 3
   },
   "file_extension": ".py",
   "mimetype": "text/x-python",
   "name": "python",
   "nbconvert_exporter": "python",
   "pygments_lexer": "ipython3",
   "version": "3.11.6"
  }
 },
 "nbformat": 4,
 "nbformat_minor": 2
}
